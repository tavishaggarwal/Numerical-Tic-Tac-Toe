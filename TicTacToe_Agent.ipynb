{
 "cells": [
  {
   "cell_type": "markdown",
   "metadata": {
    "colab_type": "text",
    "id": "rznSDgbvGggG"
   },
   "source": [
    "## Tic-Tac-Toe Agent\n",
    "​\n",
    "In this notebook, I have implemented an RL agent (using Q-learning) that learns to play Numerical Tic-Tac-Toe with odd numbers. The environment is playing randomly with the agent, i.e. its strategy is to put an even number randomly in an empty cell. The following is the layout of the notebook:\n",
    "    - Defining epsilon-greedy strategy\n",
    "    - Tracking state-action pairs for convergence\n",
    "    - Define hyperparameters for the Q-learning algorithm\n",
    "    - Generating episode and applying Q-update equation\n",
    "    - Checking convergence in Q-values"
   ]
  },
  {
   "cell_type": "markdown",
   "metadata": {
    "colab_type": "text",
    "id": "8eDb8PxBGggH"
   },
   "source": [
    "### Importing libraries"
   ]
  },
  {
   "cell_type": "code",
   "execution_count": 1,
   "metadata": {
    "colab": {},
    "colab_type": "code",
    "id": "6SFNYceFGggJ"
   },
   "outputs": [],
   "source": [
    "import collections\n",
    "import numpy as np\n",
    "import random\n",
    "import pickle\n",
    "import time\n",
    "from matplotlib import pyplot as plt\n",
    "from TCGame_env import TicTacToe\n",
    "from tqdm import tqdm"
   ]
  },
  {
   "cell_type": "code",
   "execution_count": 2,
   "metadata": {
    "colab": {},
    "colab_type": "code",
    "id": "wYLQyopEG8nz"
   },
   "outputs": [],
   "source": [
    "# Function to convert state array into a string to store it as keys in the dictionary\n",
    "# states in Q-dictionary will be of form: x-4-5-3-8-x-x-x-x\n",
    "#   x | 4 | 5\n",
    "#   ----------\n",
    "#   3 | 8 | x\n",
    "#   ----------\n",
    "#   x | x | x\n",
    "\n",
    "def Q_state(state):\n",
    "    return ('-'.join(str(e) for e in state)).replace('nan','x')"
   ]
  },
  {
   "cell_type": "code",
   "execution_count": 3,
   "metadata": {
    "colab": {},
    "colab_type": "code",
    "id": "ZebMOoiVHBBr"
   },
   "outputs": [],
   "source": [
    "# Defining a function which will return valid (all possible actions) actions corresponding to a state\n",
    "\n",
    "def valid_actions(state):\n",
    "\n",
    "    valid_Actions = []\n",
    "    \n",
    "    valid_Actions = [i for i in env.action_space(state)[0]]\n",
    "    return valid_Actions"
   ]
  },
  {
   "cell_type": "code",
   "execution_count": 4,
   "metadata": {
    "colab": {},
    "colab_type": "code",
    "id": "IRciPUkYHDWf"
   },
   "outputs": [],
   "source": [
    "# Defining a function which will add new Q-values to the Q-dictionary. \n",
    "def add_to_dict(state):\n",
    "    state1 = Q_state(state)\n",
    "    \n",
    "    valid_act = valid_actions(state)\n",
    "    if state1 not in Q_dict.keys():\n",
    "        for action in valid_act:\n",
    "            Q_dict[state1][action]=0"
   ]
  },
  {
   "cell_type": "markdown",
   "metadata": {
    "colab_type": "text",
    "id": "fNNi_EfHGggM"
   },
   "source": [
    "### Epsilon-greedy strategy"
   ]
  },
  {
   "cell_type": "code",
   "execution_count": 5,
   "metadata": {
    "colab": {},
    "colab_type": "code",
    "id": "m0lMfqiJGggN"
   },
   "outputs": [],
   "source": [
    "# Defining epsilon-greedy policy.\n",
    "def epsilon_greedy(state, time):\n",
    "    max_epsilon = 1.0\n",
    "    min_epsilon = 0.001\n",
    "\n",
    "    epsilon = min_epsilon + (max_epsilon - min_epsilon) * np.exp(-0.000001*time)\n",
    "    z = np.random.random()       \n",
    "    if z > epsilon:\n",
    "        action = max(Q_dict[Q_state(state)],key=Q_dict[Q_state(state)].get)\n",
    "    else:\n",
    "        action = random.sample(valid_actions(state),1)[0]   \n",
    "    \n",
    "    return action"
   ]
  },
  {
   "cell_type": "markdown",
   "metadata": {
    "colab_type": "text",
    "id": "H2kyQHOMGggR"
   },
   "source": [
    "### Tracking the state-action pairs for checking convergence"
   ]
  },
  {
   "cell_type": "code",
   "execution_count": 6,
   "metadata": {
    "colab": {},
    "colab_type": "code",
    "id": "qcxZ29vdGggS"
   },
   "outputs": [
    {
     "name": "stdout",
     "output_type": "stream",
     "text": [
      "0\n",
      "0\n"
     ]
    }
   ],
   "source": [
    "# Initialise Q_dictionary as 'Q_dict' and States_tracked as 'States_track' (for convergence)\n",
    "Q_dict = collections.defaultdict(dict)\n",
    "\n",
    "States_track = collections.defaultdict(dict)\n",
    "\n",
    "## For retraining with already trained Policy learned\n",
    "# with open('Policy.pkl', 'rb') as handle:\n",
    "#     Q_dict = pickle.load(handle)\n",
    "      \n",
    "\n",
    "# with open('States_tracked.pkl', 'rb') as handle:\n",
    "#     States_track = pickle.load(handle)    \n",
    "    \n",
    "print(len(Q_dict))\n",
    "print(len(States_track))"
   ]
  },
  {
   "cell_type": "code",
   "execution_count": 7,
   "metadata": {
    "colab": {},
    "colab_type": "code",
    "id": "vs73iv8fHOxV"
   },
   "outputs": [],
   "source": [
    "# Initialise few random states to be tracked\n",
    "def initialise_tracking_states():\n",
    "    sample_q_values = [('x-3-x-x-x-6-x-x-x',(0,1)),\n",
    "                       ('x-1-x-x-x-x-8-x-x',(2,9)),\n",
    "                       ('x-x-x-x-6-x-x-x-5',(2,7)),\n",
    "                       ('x-x-x-x-9-x-6-x-x',(1,7)),\n",
    "                       ('x-5-x-2-x-x-4-7-x',(0,9)),\n",
    "                       ('9-x-5-x-x-x-8-x-4',(1,3)),\n",
    "                       ('2-7-x-x-6-x-x-3-x',(8,5)),\n",
    "                       ('9-x-x-x-x-2-x-x-x',(2,5)),\n",
    "                       ('x-x-7-x-x-x-x-x-2',(1,5)),\n",
    "                       ('5-x-x-x-x-6-x-x-x',(4,9)),\n",
    "                       ('4-x-x-6-x-x-3-1-x',(8,5)),\n",
    "                       ('5-x-8-x-x-6-3-x-x',(3,1)),\n",
    "                       ('x-6-5-x-2-x-x-3-x',(0,7)),\n",
    "                       ('7-x-5-x-2-x-x-x-6',(1,3))]\n",
    "    \n",
    "    for q_values in sample_q_values:\n",
    "        state = q_values[0]\n",
    "        action = q_values[1]\n",
    "        States_track[state][action] = []"
   ]
  },
  {
   "cell_type": "code",
   "execution_count": 8,
   "metadata": {
    "colab": {},
    "colab_type": "code",
    "id": "dAbwJDMVHpwl"
   },
   "outputs": [],
   "source": [
    "# Defining a function to save the Q-dictionary as a pickle file\n",
    "\n",
    "def save_obj(obj, name ):\n",
    "    with open(name + '.pkl', 'wb') as f:\n",
    "        pickle.dump(obj, f, pickle.HIGHEST_PROTOCOL)"
   ]
  },
  {
   "cell_type": "code",
   "execution_count": 9,
   "metadata": {
    "colab": {},
    "colab_type": "code",
    "id": "6Pyj7nMVHsBi"
   },
   "outputs": [],
   "source": [
    "# Defining a function to track the states initialized\n",
    "def save_tracking_states():\n",
    "    for state in States_track.keys():\n",
    "        for action in States_track[state].keys():\n",
    "            if state in Q_dict and action in Q_dict[state]:\n",
    "                States_track[state][action].append(Q_dict[state][action])"
   ]
  },
  {
   "cell_type": "code",
   "execution_count": 10,
   "metadata": {
    "colab": {},
    "colab_type": "code",
    "id": "B_8xSluUHvew"
   },
   "outputs": [],
   "source": [
    "initialise_tracking_states()"
   ]
  },
  {
   "cell_type": "markdown",
   "metadata": {
    "colab_type": "text",
    "id": "-iPt--E9GggV"
   },
   "source": [
    "### Define hyperparameters"
   ]
  },
  {
   "cell_type": "code",
   "execution_count": 11,
   "metadata": {
    "colab": {},
    "colab_type": "code",
    "id": "G0_f5czFGggW"
   },
   "outputs": [],
   "source": [
    "EPISODES = 6000000\n",
    "LR = 0.20\n",
    "GAMMA = 0.8\n",
    "threshold = 2540\n",
    "checkpoint_print_episodes = 600000"
   ]
  },
  {
   "cell_type": "markdown",
   "metadata": {
    "colab_type": "text",
    "id": "Md6twJ7wGggh"
   },
   "source": [
    "### Q-update loop"
   ]
  },
  {
   "cell_type": "code",
   "execution_count": 12,
   "metadata": {
    "colab": {},
    "colab_type": "code",
    "id": "ldCgQuDNGggj",
    "scrolled": false
   },
   "outputs": [
    {
     "name": "stderr",
     "output_type": "stream",
     "text": [
      " 10%|█         | 600070/6000000 [13:47<2:04:54, 720.51it/s] "
     ]
    },
    {
     "name": "stdout",
     "output_type": "stream",
     "text": [
      "After playing 600000 games, Agent Won : 0.2962, Environment Won : 0.2654, Tie : 0.4385\n"
     ]
    },
    {
     "name": "stderr",
     "output_type": "stream",
     "text": [
      " 17%|█▋        | 1000125/6000000 [21:57<1:20:14, 1038.50it/s]"
     ]
    },
    {
     "name": "stdout",
     "output_type": "stream",
     "text": [
      "Processed 1M episodes\n"
     ]
    },
    {
     "name": "stderr",
     "output_type": "stream",
     "text": [
      " 20%|██        | 1200174/6000000 [26:09<1:26:01, 929.90it/s] "
     ]
    },
    {
     "name": "stdout",
     "output_type": "stream",
     "text": [
      "After playing 1200000 games, Agent Won : 0.4195, Environment Won : 0.2202, Tie : 0.3603\n"
     ]
    },
    {
     "name": "stderr",
     "output_type": "stream",
     "text": [
      " 30%|███       | 1800118/6000000 [37:26<1:04:06, 1091.93it/s]"
     ]
    },
    {
     "name": "stdout",
     "output_type": "stream",
     "text": [
      "After playing 1800000 games, Agent Won : 0.5282, Environment Won : 0.1805, Tie : 0.2913\n"
     ]
    },
    {
     "name": "stderr",
     "output_type": "stream",
     "text": [
      " 33%|███▎      | 2000181/6000000 [40:49<58:09, 1146.10it/s]  "
     ]
    },
    {
     "name": "stdout",
     "output_type": "stream",
     "text": [
      "Processed 2M episodes\n"
     ]
    },
    {
     "name": "stderr",
     "output_type": "stream",
     "text": [
      " 40%|████      | 2400159/6000000 [46:59<48:35, 1234.63it/s]  "
     ]
    },
    {
     "name": "stdout",
     "output_type": "stream",
     "text": [
      "After playing 2400000 games, Agent Won : 0.6092, Environment Won : 0.1500, Tie : 0.2408\n"
     ]
    },
    {
     "name": "stderr",
     "output_type": "stream",
     "text": [
      " 50%|█████     | 3000182/6000000 [55:58<39:28, 1266.33it/s] "
     ]
    },
    {
     "name": "stdout",
     "output_type": "stream",
     "text": [
      "After playing 3000000 games, Agent Won : 0.6690, Environment Won : 0.1265, Tie : 0.2045\n",
      "Processed 3M episodes\n"
     ]
    },
    {
     "name": "stderr",
     "output_type": "stream",
     "text": [
      " 60%|██████    | 3600154/6000000 [1:04:39<44:49, 892.32it/s]  "
     ]
    },
    {
     "name": "stdout",
     "output_type": "stream",
     "text": [
      "After playing 3600000 games, Agent Won : 0.7149, Environment Won : 0.1082, Tie : 0.1769\n"
     ]
    },
    {
     "name": "stderr",
     "output_type": "stream",
     "text": [
      " 67%|██████▋   | 4000229/6000000 [1:10:04<22:19, 1492.96it/s] "
     ]
    },
    {
     "name": "stdout",
     "output_type": "stream",
     "text": [
      "Processed 4M episodes\n"
     ]
    },
    {
     "name": "stderr",
     "output_type": "stream",
     "text": [
      " 70%|███████   | 4200240/6000000 [1:12:24<22:16, 1346.51it/s]"
     ]
    },
    {
     "name": "stdout",
     "output_type": "stream",
     "text": [
      "After playing 4200000 games, Agent Won : 0.7506, Environment Won : 0.0939, Tie : 0.1554\n"
     ]
    },
    {
     "name": "stderr",
     "output_type": "stream",
     "text": [
      " 80%|████████  | 4800190/6000000 [1:20:41<20:02, 997.69it/s]  "
     ]
    },
    {
     "name": "stdout",
     "output_type": "stream",
     "text": [
      "After playing 4800000 games, Agent Won : 0.7788, Environment Won : 0.0828, Tie : 0.1384\n"
     ]
    },
    {
     "name": "stderr",
     "output_type": "stream",
     "text": [
      " 83%|████████▎ | 5000170/6000000 [1:23:35<13:23, 1243.78it/s]"
     ]
    },
    {
     "name": "stdout",
     "output_type": "stream",
     "text": [
      "Processed 5M episodes\n"
     ]
    },
    {
     "name": "stderr",
     "output_type": "stream",
     "text": [
      " 90%|█████████ | 5400186/6000000 [1:29:20<07:56, 1258.13it/s]"
     ]
    },
    {
     "name": "stdout",
     "output_type": "stream",
     "text": [
      "After playing 5400000 games, Agent Won : 0.8013, Environment Won : 0.0739, Tie : 0.1248\n"
     ]
    },
    {
     "name": "stderr",
     "output_type": "stream",
     "text": [
      "100%|██████████| 6000000/6000000 [1:37:12<00:00, 1028.73it/s]\n"
     ]
    },
    {
     "name": "stdout",
     "output_type": "stream",
     "text": [
      "After playing 6000000 games, Agent Won : 0.8197, Environment Won : 0.0667, Tie : 0.1136\n",
      "Processed 6M episodes\n",
      "Total Execution time:  5832.467136859894\n"
     ]
    }
   ],
   "source": [
    "start_time = time.time()\n",
    "\n",
    "q_track={}\n",
    "q_track['x-3-x-x-x-6-x-x-x']=[]\n",
    "q_track['x-1-x-x-x-x-8-x-x']=[]\n",
    "q_track['x-x-x-x-6-x-x-x-5']=[]\n",
    "q_track['x-x-x-x-9-x-6-x-x']=[]\n",
    "q_track['x-5-x-2-x-x-4-7-x']=[]\n",
    "q_track['9-x-5-x-x-x-8-x-4']=[]\n",
    "q_track['2-7-x-x-6-x-x-3-x']=[]\n",
    "q_track['9-x-x-x-x-2-x-x-x']=[]\n",
    "q_track['x-x-7-x-x-x-x-x-2']=[]\n",
    "q_track['5-x-x-x-x-6-x-x-x']=[]\n",
    "q_track['4-x-x-6-x-x-3-1-x']=[]\n",
    "q_track['5-x-8-x-x-6-3-x-x']=[]\n",
    "q_track['x-6-5-x-2-x-x-3-x']=[]\n",
    "q_track['7-x-5-x-2-x-x-x-6']=[]   \n",
    "                    \n",
    "agent_won_count = 0\n",
    "env_won_count = 0\n",
    "tie_count = 0\n",
    "\n",
    "for episode in tqdm(range(EPISODES)):\n",
    "    \n",
    "    env = TicTacToe()\n",
    "    \n",
    "    ## Initalizing parameter for the episodes\n",
    "    reward=0\n",
    "    curr_state = env.state\n",
    "    add_to_dict(curr_state)\n",
    "    is_terminal = False\n",
    "    total_reward = 0\n",
    "    \n",
    "    while not(is_terminal):\n",
    "        curr_action = epsilon_greedy(curr_state, episode)\n",
    "    \n",
    "        if Q_state(curr_state) in q_track.keys():\n",
    "            q_track[Q_state(curr_state)].append(curr_action)\n",
    "\n",
    "        next_state,reward,is_terminal, msg = env.step(curr_state,curr_action) \n",
    "\n",
    "        curr_lookup = Q_state(curr_state)\n",
    "        next_lookup = Q_state(next_state)\n",
    "\n",
    "        if is_terminal:\n",
    "            q_value_max = 0\n",
    "            \n",
    "            # Tracking the count of games won by agent and environment\n",
    "            if msg == \"Agent Won!\":\n",
    "                agent_won_count += 1\n",
    "            elif msg == \"Environment Won!\":\n",
    "                env_won_count += 1\n",
    "            else:\n",
    "                tie_count += 1\n",
    "        else:\n",
    "            add_to_dict(next_state)\n",
    "            max_next = max(Q_dict[next_lookup],key=Q_dict[next_lookup].get)\n",
    "            q_value_max = Q_dict[next_lookup][max_next]\n",
    "\n",
    "        Q_dict[curr_lookup][curr_action] += LR * ((reward + (GAMMA * (q_value_max))) - Q_dict[curr_lookup][curr_action]) \n",
    "        curr_state = next_state\n",
    "\n",
    "        total_reward += reward\n",
    "\n",
    "    if (episode + 1) % checkpoint_print_episodes == 0:\n",
    "        print(\"After playing %d games, Agent Won : %.4f, Environment Won : %.4f, Tie : %.4f\"% (episode + 1, \n",
    "            agent_won_count / (episode + 1), env_won_count /(episode + 1), tie_count / (episode + 1)))\n",
    "\n",
    "    if ((episode + 1) % threshold) == 0:   \n",
    "        save_tracking_states()\n",
    "\n",
    "    if ((episode + 1) % 1000000) == 0:\n",
    "        print('Processed %dM episodes'%((episode+1)/1000000))\n",
    "        \n",
    "elapsed_time = time.time() - start_time\n",
    "save_obj(States_track,'States_tracked')\n",
    "save_obj(Q_dict,'Policy')\n",
    "print('Total Execution time: ', elapsed_time)"
   ]
  },
  {
   "cell_type": "markdown",
   "metadata": {
    "colab_type": "text",
    "id": "t6eMFbb8Ggg2"
   },
   "source": [
    "### Checking the Q-dictionary"
   ]
  },
  {
   "cell_type": "code",
   "execution_count": 14,
   "metadata": {
    "colab": {},
    "colab_type": "code",
    "id": "F1tnDJWkGgg9"
   },
   "outputs": [
    {
     "data": {
      "text/plain": [
       "1267121"
      ]
     },
     "execution_count": 14,
     "metadata": {},
     "output_type": "execute_result"
    }
   ],
   "source": [
    "len(Q_dict)"
   ]
  },
  {
   "cell_type": "code",
   "execution_count": 15,
   "metadata": {
    "colab": {},
    "colab_type": "code",
    "id": "cFgUqfcQGghB",
    "scrolled": true
   },
   "outputs": [
    {
     "data": {
      "text/plain": [
       "{(0, 1): -1.0764380483629874,\n",
       " (0, 3): -1.047259037233907,\n",
       " (0, 7): -0.5929303746265571,\n",
       " (0, 9): 2.340190070964205,\n",
       " (1, 1): -2.567347787817046,\n",
       " (1, 3): -0.21804431810216657,\n",
       " (1, 7): -2.8613332697655762,\n",
       " (1, 9): -0.7670664863574737,\n",
       " (3, 1): -0.95601953488896,\n",
       " (3, 3): -1.0057569438410892,\n",
       " (3, 7): -0.9648156279111679,\n",
       " (3, 9): -0.9727665159631451,\n",
       " (4, 1): -2.218281361896413,\n",
       " (4, 3): -2.483303249543168,\n",
       " (4, 7): -1.315282823122518,\n",
       " (4, 9): -0.8028843103289344,\n",
       " (5, 1): -0.6240992671705161,\n",
       " (5, 3): -0.6782155804739437,\n",
       " (5, 7): -0.981985601490518,\n",
       " (5, 9): -0.9141006540800001,\n",
       " (6, 1): -2.960897912263148,\n",
       " (6, 3): -2.8748684811924146,\n",
       " (6, 7): -0.9326422428452508,\n",
       " (6, 9): -0.9718525023289344,\n",
       " (7, 1): -1.518378510290518,\n",
       " (7, 3): -0.9774820018631475,\n",
       " (7, 7): -0.8926258176,\n",
       " (7, 9): -2.7735068948889596}"
      ]
     },
     "execution_count": 15,
     "metadata": {},
     "output_type": "execute_result"
    }
   ],
   "source": [
    "# Checking for one of the states\n",
    "Q_dict['x-x-5-x-x-x-x-x-4']"
   ]
  },
  {
   "cell_type": "markdown",
   "metadata": {
    "colab_type": "text",
    "id": "KGPZEQDFGghG"
   },
   "source": [
    "### Checking the states tracked for Q-values convergence"
   ]
  },
  {
   "cell_type": "code",
   "execution_count": 16,
   "metadata": {
    "colab": {},
    "colab_type": "code",
    "id": "pVQInsg7GghL"
   },
   "outputs": [
    {
     "data": {
      "image/png": "[encoded data removed]",
      "text/plain": [
       "<Figure size 1152x504 with 4 Axes>"
      ]
     },
     "metadata": {
      "needs_background": "light"
     },
     "output_type": "display_data"
    }
   ],
   "source": [
    "plt.figure(0, figsize=(16,7))\n",
    "plt.subplot(241)\n",
    "t1=States_track['x-3-x-x-x-6-x-x-x'][(0,1)]\n",
    "plt.title(\"(s,a)=('x-3-x-x-x-6-x-x-x',(0,1))\")\n",
    "plt.plot(np.asarray(range(0, len(t1))),np.asarray(t1))\n",
    "\n",
    "plt.subplot(242)\n",
    "t2=States_track['x-x-x-x-6-x-x-x-5'][(2,7)]\n",
    "plt.title(\"(s,a)=('x-x-x-x-6-x-x-x-5',(2,7))\")\n",
    "plt.plot(np.asarray(range(0, len(t2))),np.asarray(t2))\n",
    "\n",
    "plt.subplot(243)\n",
    "t3=States_track['5-x-x-x-x-6-x-x-x'][(4,9)]\n",
    "plt.title(\"(s,a)=('5-x-x-x-x-6-x-x-x',(4,9))\")\n",
    "plt.plot(np.asarray(range(0, len(t3))),np.asarray(t3))\n",
    "\n",
    "plt.subplot(244)\n",
    "t4=States_track['x-5-x-2-x-x-4-7-x'][(0,9)]\n",
    "plt.title(\"(s,a)=('x-5-x-2-x-x-4-7-x',(0,9))\")\n",
    "plt.plot(np.asarray(range(0, len(t4))),np.asarray(t4))\n",
    "\n",
    "plt.show()"
   ]
  },
  {
   "cell_type": "code",
   "execution_count": null,
   "metadata": {},
   "outputs": [],
   "source": []
  }
 ],
 "metadata": {
  "colab": {
   "collapsed_sections": [],
   "name": "TicTacToe_Agent.ipynb",
   "provenance": [],
   "version": "0.3.2"
  },
  "kernelspec": {
   "display_name": "Python 3",
   "language": "python",
   "name": "python3"
  },
  "language_info": {
   "codemirror_mode": {
    "name": "ipython",
    "version": 3
   },
   "file_extension": ".py",
   "mimetype": "text/x-python",
   "name": "python",
   "nbconvert_exporter": "python",
   "pygments_lexer": "ipython3",
   "version": "3.7.4"
  }
 },
 "nbformat": 4,
 "nbformat_minor": 1
}
